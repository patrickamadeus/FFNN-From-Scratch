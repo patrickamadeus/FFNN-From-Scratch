{
 "cells": [
  {
   "attachments": {},
   "cell_type": "markdown",
   "metadata": {},
   "source": [
    "# **Feed Forward Neural Network** (FFNN) Implementation\n",
    "#### _with **Forward Propagation**_\n",
    "\n",
    "#### Made by:\n",
    "- Samuel Christoper Swandi - 13520075\n",
    "- Grace Claudia - 13520078\n",
    "- Ubaidillah Ariq Prathama - 13520085\n",
    "- Patrick Amadeus Irawan - 13520109\n",
    "\n",
    "------------"
   ]
  },
  {
   "cell_type": "markdown",
   "metadata": {},
   "source": [
    "List of Content\n",
    "\n",
    "1. [Library & Dependencies](#library)\n",
    "2. [Helper Function](#helper)\n",
    "3. [Neural Network Visualization](#visualization)"
   ]
  },
  {
   "cell_type": "markdown",
   "metadata": {},
   "source": [
    "## Library & Dependencies <a name=\"library\"></a>"
   ]
  },
  {
   "cell_type": "code",
   "execution_count": 1,
   "metadata": {},
   "outputs": [
    {
     "name": "stdout",
     "output_type": "stream",
     "text": [
      "Defaulting to user installation because normal site-packages is not writeable\n",
      "Requirement already satisfied: pyvis==0.3.2 in /Users/graceclaudia/Library/Python/3.9/lib/python/site-packages (0.3.2)\n",
      "Requirement already satisfied: ipython>=5.3.0 in /Users/graceclaudia/Library/Python/3.9/lib/python/site-packages (from pyvis==0.3.2) (8.12.0)\n",
      "Requirement already satisfied: networkx>=1.11 in /Users/graceclaudia/Library/Python/3.9/lib/python/site-packages (from pyvis==0.3.2) (2.6.3)\n",
      "Requirement already satisfied: jsonpickle>=1.4.1 in /Users/graceclaudia/Library/Python/3.9/lib/python/site-packages (from pyvis==0.3.2) (3.0.1)\n",
      "Requirement already satisfied: jinja2>=2.9.6 in /Users/graceclaudia/Library/Python/3.9/lib/python/site-packages (from pyvis==0.3.2) (3.1.2)\n",
      "Requirement already satisfied: pickleshare in /Users/graceclaudia/Library/Python/3.9/lib/python/site-packages (from ipython>=5.3.0->pyvis==0.3.2) (0.7.5)\n",
      "Requirement already satisfied: pygments>=2.4.0 in /Users/graceclaudia/Library/Python/3.9/lib/python/site-packages (from ipython>=5.3.0->pyvis==0.3.2) (2.14.0)\n",
      "Requirement already satisfied: jedi>=0.16 in /Users/graceclaudia/Library/Python/3.9/lib/python/site-packages (from ipython>=5.3.0->pyvis==0.3.2) (0.18.2)\n",
      "Requirement already satisfied: matplotlib-inline in /Users/graceclaudia/Library/Python/3.9/lib/python/site-packages (from ipython>=5.3.0->pyvis==0.3.2) (0.1.6)\n",
      "Requirement already satisfied: decorator in /Users/graceclaudia/Library/Python/3.9/lib/python/site-packages (from ipython>=5.3.0->pyvis==0.3.2) (5.1.1)\n",
      "Requirement already satisfied: appnope in /Users/graceclaudia/Library/Python/3.9/lib/python/site-packages (from ipython>=5.3.0->pyvis==0.3.2) (0.1.3)\n",
      "Requirement already satisfied: typing-extensions in /Users/graceclaudia/Library/Python/3.9/lib/python/site-packages (from ipython>=5.3.0->pyvis==0.3.2) (4.5.0)\n",
      "Requirement already satisfied: stack-data in /Users/graceclaudia/Library/Python/3.9/lib/python/site-packages (from ipython>=5.3.0->pyvis==0.3.2) (0.6.2)\n",
      "Requirement already satisfied: pexpect>4.3 in /Users/graceclaudia/Library/Python/3.9/lib/python/site-packages (from ipython>=5.3.0->pyvis==0.3.2) (4.8.0)\n",
      "Requirement already satisfied: prompt-toolkit!=3.0.37,<3.1.0,>=3.0.30 in /Users/graceclaudia/Library/Python/3.9/lib/python/site-packages (from ipython>=5.3.0->pyvis==0.3.2) (3.0.38)\n",
      "Requirement already satisfied: traitlets>=5 in /Users/graceclaudia/Library/Python/3.9/lib/python/site-packages (from ipython>=5.3.0->pyvis==0.3.2) (5.9.0)\n",
      "Requirement already satisfied: backcall in /Users/graceclaudia/Library/Python/3.9/lib/python/site-packages (from ipython>=5.3.0->pyvis==0.3.2) (0.2.0)\n",
      "Requirement already satisfied: parso<0.9.0,>=0.8.0 in /Users/graceclaudia/Library/Python/3.9/lib/python/site-packages (from jedi>=0.16->ipython>=5.3.0->pyvis==0.3.2) (0.8.3)\n",
      "Requirement already satisfied: MarkupSafe>=2.0 in /Users/graceclaudia/Library/Python/3.9/lib/python/site-packages (from jinja2>=2.9.6->pyvis==0.3.2) (2.1.2)\n",
      "Requirement already satisfied: ptyprocess>=0.5 in /Users/graceclaudia/Library/Python/3.9/lib/python/site-packages (from pexpect>4.3->ipython>=5.3.0->pyvis==0.3.2) (0.7.0)\n",
      "Requirement already satisfied: wcwidth in /Users/graceclaudia/Library/Python/3.9/lib/python/site-packages (from prompt-toolkit!=3.0.37,<3.1.0,>=3.0.30->ipython>=5.3.0->pyvis==0.3.2) (0.2.6)\n",
      "Requirement already satisfied: executing>=1.2.0 in /Users/graceclaudia/Library/Python/3.9/lib/python/site-packages (from stack-data->ipython>=5.3.0->pyvis==0.3.2) (1.2.0)\n",
      "Requirement already satisfied: pure-eval in /Users/graceclaudia/Library/Python/3.9/lib/python/site-packages (from stack-data->ipython>=5.3.0->pyvis==0.3.2) (0.2.2)\n",
      "Requirement already satisfied: asttokens>=2.1.0 in /Users/graceclaudia/Library/Python/3.9/lib/python/site-packages (from stack-data->ipython>=5.3.0->pyvis==0.3.2) (2.2.1)\n",
      "Requirement already satisfied: six in /Applications/Xcode.app/Contents/Developer/Library/Frameworks/Python3.framework/Versions/3.9/lib/python3.9/site-packages (from asttokens>=2.1.0->stack-data->ipython>=5.3.0->pyvis==0.3.2) (1.15.0)\n",
      "\u001b[33mWARNING: You are using pip version 21.2.4; however, version 23.0.1 is available.\n",
      "You should consider upgrading via the '/Applications/Xcode.app/Contents/Developer/usr/bin/python3 -m pip install --upgrade pip' command.\u001b[0m\n",
      "Defaulting to user installation because normal site-packages is not writeable\n",
      "Requirement already satisfied: networkx==2.6.3 in /Users/graceclaudia/Library/Python/3.9/lib/python/site-packages (2.6.3)\n",
      "\u001b[33mWARNING: You are using pip version 21.2.4; however, version 23.0.1 is available.\n",
      "You should consider upgrading via the '/Applications/Xcode.app/Contents/Developer/usr/bin/python3 -m pip install --upgrade pip' command.\u001b[0m\n",
      "Defaulting to user installation because normal site-packages is not writeable\n",
      "Requirement already satisfied: numpy==1.21.6 in /Users/graceclaudia/Library/Python/3.9/lib/python/site-packages (1.21.6)\n",
      "\u001b[33mWARNING: You are using pip version 21.2.4; however, version 23.0.1 is available.\n",
      "You should consider upgrading via the '/Applications/Xcode.app/Contents/Developer/usr/bin/python3 -m pip install --upgrade pip' command.\u001b[0m\n"
     ]
    }
   ],
   "source": [
    "!python3 -m pip install pyvis==0.3.2\n",
    "!python3 -m pip install networkx==2.6.3\n",
    "!python3 -m pip install numpy==1.21.6"
   ]
  },
  {
   "cell_type": "code",
   "execution_count": 2,
   "metadata": {},
   "outputs": [],
   "source": [
    "import numpy as np\n",
    "import os\n",
    "\n",
    "from pyvis.network import Network"
   ]
  },
  {
   "attachments": {},
   "cell_type": "markdown",
   "metadata": {},
   "source": [
    "## Class"
   ]
  },
  {
   "attachments": {},
   "cell_type": "markdown",
   "metadata": {},
   "source": [
    "#### Connected Layer"
   ]
  },
  {
   "cell_type": "code",
   "execution_count": 3,
   "metadata": {},
   "outputs": [],
   "source": [
    "class ConnectedLayer:\n",
    "    def __init__(self, input_size, output_size, weights):\n",
    "        self.input_size = input_size\n",
    "        self.output_size = output_size\n",
    "        self.weights = weights[1:]\n",
    "        self.bias = weights[0]\n",
    "\n",
    "    def forward(self, input):\n",
    "        self.input = input\n",
    "        return np.dot(input, self.weights) + self.bias"
   ]
  },
  {
   "attachments": {},
   "cell_type": "markdown",
   "metadata": {},
   "source": [
    "#### Activation Layer"
   ]
  },
  {
   "cell_type": "code",
   "execution_count": 4,
   "metadata": {},
   "outputs": [],
   "source": [
    "class ActivationLayer:\n",
    "    def __init__(self, activation):\n",
    "        self.activation = activation\n",
    "    \n",
    "    def forward(self, input):\n",
    "        self.input = input\n",
    "        return self.activation(input)"
   ]
  },
  {
   "attachments": {},
   "cell_type": "markdown",
   "metadata": {},
   "source": [
    "#### Neural Network"
   ]
  },
  {
   "cell_type": "code",
   "execution_count": 5,
   "metadata": {},
   "outputs": [],
   "source": [
    "class NeuralNetwork:\n",
    "    def __init__(self):\n",
    "        self.layers = []\n",
    "\n",
    "    def add(self, layer):\n",
    "        self.layers.append(layer)\n",
    "    \n",
    "    def predict(self, input_data):\n",
    "        samples = len(input_data)\n",
    "        result = []\n",
    "        complete_result = []\n",
    "\n",
    "        for i in range(samples):\n",
    "            complete_result.append([])\n",
    "            output = input_data[i][1:]\n",
    "            for layer in self.layers:\n",
    "                output = layer.forward(output)\n",
    "                if isinstance(layer, ActivationLayer):\n",
    "                    complete_result[i].append(np.round(output, 4))\n",
    "            result.append(output)\n",
    "\n",
    "        return result, complete_result\n"
   ]
  },
  {
   "attachments": {},
   "cell_type": "markdown",
   "metadata": {},
   "source": [
    "## **Helper** Function <a class=\"anchor\" id=\"helper\"></a>"
   ]
  },
  {
   "attachments": {},
   "cell_type": "markdown",
   "metadata": {},
   "source": [
    "#### Activation Function"
   ]
  },
  {
   "cell_type": "code",
   "execution_count": 6,
   "metadata": {},
   "outputs": [],
   "source": [
    "def linear(net):\n",
    "    return net\n",
    "\n",
    "def ReLU(net):\n",
    "    return np.maximum(0,net)\n",
    "\n",
    "def sigmoid(net):\n",
    "    return 1/(1+np.exp(-net))\n",
    "\n",
    "def softmax(net):\n",
    "    return np.exp(net)/np.sum(np.exp(net))"
   ]
  },
  {
   "attachments": {},
   "cell_type": "markdown",
   "metadata": {},
   "source": [
    "#### Loss Function"
   ]
  },
  {
   "cell_type": "code",
   "execution_count": 7,
   "metadata": {},
   "outputs": [],
   "source": [
    "def mse(y_true, y_pred):\n",
    "    return np.mean(np.square(y_true - y_pred))\n",
    "\n",
    "def sse(y_true, y_pred):\n",
    "    return np.sum(np.square(y_true - y_pred))"
   ]
  },
  {
   "cell_type": "markdown",
   "metadata": {},
   "source": [
    "## Model Load Section"
   ]
  },
  {
   "cell_type": "code",
   "execution_count": 8,
   "metadata": {},
   "outputs": [],
   "source": [
    "MODEL_FOLDER = '../test/model/'\n",
    "INPUT_FOLDER = '../test/input/'\n",
    "# read file from test folder\n",
    "def read_file(folder_path, file_name):\n",
    "    with open(folder_path + file_name, 'r') as file:\n",
    "        data = [i.rstrip(\"\\n\") for i in file.readlines()]\n",
    "    return data\n",
    "\n",
    "filename = input('Enter model file name: ')\n",
    "data = read_file(MODEL_FOLDER, filename)\n",
    "filename = input('Enter input file name: ')\n",
    "input_data = read_file(INPUT_FOLDER, filename)"
   ]
  },
  {
   "attachments": {},
   "cell_type": "markdown",
   "metadata": {},
   "source": [
    "## Loading Weights"
   ]
  },
  {
   "cell_type": "code",
   "execution_count": 9,
   "metadata": {},
   "outputs": [],
   "source": [
    "idx = 1\n",
    "weights = []\n",
    "list_prev_size = []\n",
    "list_layer_size = []\n",
    "list_activation = []\n",
    "\n",
    "for i in range(int(data[0]) - 1):\n",
    "    prev_size, layer_size, activation = [int(i) for i in data[idx].split()]\n",
    "    list_prev_size.append(prev_size)\n",
    "    list_layer_size.append(layer_size)\n",
    "    list_activation.append(activation)\n",
    "    \n",
    "    idx += 1\n",
    "    weight = []\n",
    "    for j in range(prev_size + 1):\n",
    "        weight.append([float(i) for i in data[idx].split()])\n",
    "        idx += 1\n",
    "    \n",
    "    weights.append(weight)"
   ]
  },
  {
   "attachments": {},
   "cell_type": "markdown",
   "metadata": {},
   "source": [
    "## Predict Output"
   ]
  },
  {
   "cell_type": "code",
   "execution_count": 10,
   "metadata": {},
   "outputs": [
    {
     "name": "stdout",
     "output_type": "stream",
     "text": [
      "[array([1.]), array([1.]), array([1.]), array([1.])]\n",
      "[[array([ 0. , 15.3]), array([1.])], [array([35.  ,  4.91]), array([1.])], [array([0. , 5.3]), array([1.])], [array([34.11,  0.  ]), array([1.])]]\n"
     ]
    }
   ],
   "source": [
    "x_train = []\n",
    "for i in range(len(input_data)):\n",
    "    x_train.append([float(i) for i in input_data[i].split()])\n",
    "x_train = np.array(x_train)\n",
    "\n",
    "n = int(data[0])\n",
    "act = {0: linear, 1: ReLU, 2: sigmoid, 3: softmax}\n",
    "\n",
    "net = NeuralNetwork()\n",
    "\n",
    "for i in range (n - 1):\n",
    "    net.add(ConnectedLayer(list_prev_size[i], list_layer_size[i], weights[i]))\n",
    "    net.add(ActivationLayer(act[list_activation[i]]))\n",
    "    \n",
    "out, complete_out = net.predict(x_train)\n",
    "print(out)\n",
    "print(complete_out)"
   ]
  },
  {
   "attachments": {},
   "cell_type": "markdown",
   "metadata": {},
   "source": [
    "## Neural Network Visualization"
   ]
  },
  {
   "cell_type": "code",
   "execution_count": 11,
   "metadata": {},
   "outputs": [],
   "source": [
    "n = int(data[0])\n",
    "act = {0: \"linear\", 1: \"ReLU\", 2: \"sigmoid\", 3: \"softmax\"}\n",
    "idx = 1\n",
    "\n",
    "XSTEP = 300\n",
    "YSTEP = 300\n",
    "SIZE = 10\n",
    "\n",
    "nodes = []\n",
    "node_i = 1\n",
    "value = []\n",
    "x_val = 0\n",
    "y_val = 0\n",
    "x = []\n",
    "y = []\n",
    "label = []\n",
    "color = []\n",
    "edge = []\n",
    "title = []\n",
    "\n",
    "src_idx = 0\n",
    "\n",
    "for i_layer in range(n - 1):\n",
    "    n_curr, n_next, act = [int(i) for i in data[idx].split()]\n",
    "\n",
    "    if i_layer == 0:  # means that this is the first layer, hence construct input\n",
    "        for i_node in range(n_curr + 1):\n",
    "            if i_node == 0:  # bias\n",
    "                color.append(\"#dd4b39\")\n",
    "                label.append(\"Input[bias]\")\n",
    "                temp = \"\"\n",
    "                for i in range (len(input_data)):\n",
    "                    temp += str(x_train[i][0])\n",
    "                    if i < len(input_data) - 1:\n",
    "                        temp += \", \"\n",
    "                title.append(temp)\n",
    "            else:\n",
    "                color.append(\"#162347\")\n",
    "                label.append(\"Input[{}]\".format(i_node))\n",
    "                temp = \"\"\n",
    "                for i in range (len(input_data)):\n",
    "                    temp += str(x_train[i][i_node])\n",
    "                    if i < len(input_data) - 1:\n",
    "                        temp += \", \"\n",
    "                title.append(temp)\n",
    "            value.append(SIZE)\n",
    "            x.append(x_val)\n",
    "            y.append(y_val)\n",
    "            y_val += YSTEP\n",
    "            nodes.append(node_i)\n",
    "            node_i += 1\n",
    "        x_val += XSTEP\n",
    "\n",
    "    y_val = 0\n",
    "    # always construct the next layer\n",
    "    for i_node in range(n_next + 1):\n",
    "        if i_node == 0:\n",
    "            if i_layer == n - 2:\n",
    "                continue\n",
    "            color.append(\"#dd4b39\")\n",
    "            label.append(\"HL{}[bias]\".format(i_layer + 1))\n",
    "            temp = \"\"\n",
    "            for i in range (len(input_data)):\n",
    "                temp +=  \"1\"\n",
    "                if i < len(input_data) - 1:\n",
    "                    temp += \", \"\n",
    "            title.append(temp)\n",
    "        else:\n",
    "            color.append(\"#162347\")\n",
    "            if i_layer == n - 2:\n",
    "                label.append(\"Output[{}]\".format(i_node))\n",
    "            else:\n",
    "                label.append(\"HL{}[{}]\".format(i_layer + 1, i_node))\n",
    "            temp = \"\"\n",
    "            for i in range (len(input_data)):\n",
    "                temp += str(complete_out[i][i_layer][i_node - 1])\n",
    "                if i < len(input_data) - 1:\n",
    "                    temp += \", \"\n",
    "            title.append(temp)\n",
    "        value.append(SIZE)\n",
    "        x.append(x_val)\n",
    "        y.append(y_val)\n",
    "        y_val += YSTEP\n",
    "        nodes.append(node_i)\n",
    "        node_i += 1\n",
    "    x_val += XSTEP\n",
    "\n",
    "    idx += 1\n",
    "    for origin in range(n_curr + 1):\n",
    "        dst_idx = -1\n",
    "        for w in reversed(data[idx].split()):\n",
    "            edge.append((nodes[src_idx], nodes[dst_idx], w))\n",
    "            dst_idx -= 1\n",
    "        src_idx += 1\n",
    "        idx += 1\n"
   ]
  },
  {
   "cell_type": "code",
   "execution_count": 12,
   "metadata": {},
   "outputs": [
    {
     "name": "stdout",
     "output_type": "stream",
     "text": [
      "./tmp/network.html\n"
     ]
    },
    {
     "data": {
      "text/html": [
       "\n",
       "        <iframe\n",
       "            width=\"100%\"\n",
       "            height=\"600px\"\n",
       "            src=\"./tmp/network.html\"\n",
       "            frameborder=\"0\"\n",
       "            allowfullscreen\n",
       "            \n",
       "        ></iframe>\n",
       "        "
      ],
      "text/plain": [
       "<IPython.lib.display.IFrame at 0x10b0bbdc0>"
      ]
     },
     "execution_count": 12,
     "metadata": {},
     "output_type": "execute_result"
    }
   ],
   "source": [
    "g = Network(notebook=True, cdn_resources=\"remote\")\n",
    "g.add_nodes(\n",
    "\tnodes,\n",
    "    title = title,\n",
    "    value = value,\n",
    "    x=x,y=y,\n",
    "    label = label,\n",
    "    color = color\n",
    ")\n",
    "\n",
    "for e in edge:\n",
    "    g.add_edge(e[0], e[1], title = e[2], color=\"#162347\")\n",
    "\n",
    "for n in g.nodes:\n",
    "    n.update({'physics': False})\n",
    "    \n",
    "g.show(\"./tmp/network.html\")"
   ]
  }
 ],
 "metadata": {
  "kernelspec": {
   "display_name": "Python 3 (ipykernel)",
   "language": "python",
   "name": "python3"
  },
  "language_info": {
   "codemirror_mode": {
    "name": "ipython",
    "version": 3
   },
   "file_extension": ".py",
   "mimetype": "text/x-python",
   "name": "python",
   "nbconvert_exporter": "python",
   "pygments_lexer": "ipython3",
   "version": "3.9.6"
  }
 },
 "nbformat": 4,
 "nbformat_minor": 2
}
