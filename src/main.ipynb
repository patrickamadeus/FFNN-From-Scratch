{
 "cells": [
  {
   "cell_type": "markdown",
   "metadata": {},
   "source": [
    "# **Fast Forward Neural Network** (FFNN) Implementation\n",
    "#### _with **Forward Propagation**_\n",
    "\n",
    "#### Made by:\n",
    "- Samuel Christoper Swandi - 13520075\n",
    "- Grace Claudia - 13520078\n",
    "- Ubaidillah Ariq Prathama - 13520085\n",
    "- Patrick Amadeus Irawan - 13520109\n",
    "\n",
    "------------"
   ]
  },
  {
   "cell_type": "markdown",
   "metadata": {},
   "source": [
    "List of Content\n",
    "\n",
    "1. [Library & Dependencies](#library)\n",
    "2. [Helper Function](#helper)\n",
    "3. [Neural Network Visualization](#visualization)"
   ]
  },
  {
   "cell_type": "markdown",
   "metadata": {},
   "source": [
    "## Library & Dependencies <a name=\"library\"></a>"
   ]
  },
  {
   "cell_type": "code",
   "execution_count": null,
   "metadata": {},
   "outputs": [],
   "source": [
    "!pip install pyvis==0.3.2\n",
    "!pip install networkx==2.6.3\n",
    "!pip install numpy==1.21.6"
   ]
  },
  {
   "cell_type": "code",
   "execution_count": 56,
   "metadata": {},
   "outputs": [],
   "source": [
    "class ConnectedLayer:\n",
    "    def __init__(self, input_size, output_size, weights):\n",
    "        self.input_size = input_size\n",
    "        self.output_size = output_size\n",
    "        self.weights = weights[1:]\n",
    "        self.bias = weights[0]\n",
    "\n",
    "    def forward(self, input):\n",
    "        self.input = input\n",
    "        return np.dot(input, self.weights) + self.bias"
   ]
  },
  {
   "attachments": {},
   "cell_type": "markdown",
   "metadata": {},
   "source": [
    "#### Activation Layer"
   ]
  },
  {
   "cell_type": "code",
   "execution_count": 57,
   "metadata": {},
   "outputs": [],
   "source": [
    "class ActivationLayer:\n",
    "    def __init__(self, activation):\n",
    "        self.activation = activation\n",
    "    \n",
    "    def forward(self, input):\n",
    "        self.input = input\n",
    "        return self.activation(input)"
   ]
  },
  {
   "attachments": {},
   "cell_type": "markdown",
   "metadata": {},
   "source": [
    "#### Neural Network"
   ]
  },
  {
   "cell_type": "code",
   "execution_count": 58,
   "metadata": {},
   "outputs": [],
   "source": [
    "class Network:\n",
    "    def __init__(self):\n",
    "        self.layers = []\n",
    "\n",
    "    def add(self, layer):\n",
    "        self.layers.append(layer)\n",
    "    \n",
    "    def predict(self, input_data):\n",
    "        samples = len(input_data)\n",
    "        result = []\n",
    "\n",
    "        for i in range(samples):\n",
    "            output = input_data[i][1:]\n",
    "            for layer in self.layers:\n",
    "                output = layer.forward(output)\n",
    "            result.append(output)\n",
    "\n",
    "        return result\n"
   ]
  },
  {
   "cell_type": "markdown",
   "metadata": {},
   "source": [
    "## Model Load Section"
   ]
  },
  {
   "cell_type": "code",
   "execution_count": 59,
   "metadata": {},
   "outputs": [],
   "source": [
    "TEST_FOLDER = '../test/'\n",
    "# read file from test folder\n",
    "def read_file(file_name):\n",
    "    with open(TEST_FOLDER+file_name, 'r') as file:\n",
    "        data = [i.rstrip(\"\\n\") for i in file.readlines()]\n",
    "    return data\n",
    "\n",
    "data = read_file('xor.txt')"
   ]
  },
  {
   "attachments": {},
   "cell_type": "markdown",
   "metadata": {},
   "source": [
    "## Loading Weights"
   ]
  },
  {
   "cell_type": "code",
   "execution_count": 63,
   "metadata": {},
   "outputs": [],
   "source": [
    "idx = 1\n",
    "weights = []\n",
    "\n",
    "for i in range(int(data[0]) - 1):\n",
    "    prev_size, layer_size, activation = [int(i) for i in data[idx].split()]\n",
    "    \n",
    "    idx += 1\n",
    "    weight = []\n",
    "    for j in range(prev_size + 1):\n",
    "        weight.append([int(i) for i in data[idx].split()])\n",
    "        idx += 1\n",
    "    \n",
    "    weights.append(weight)"
   ]
  },
  {
   "cell_type": "code",
   "execution_count": 64,
   "metadata": {},
   "outputs": [
    {
     "data": {
      "text/plain": [
       "[array([4.54391049e-05]),\n",
       " array([0.99995452]),\n",
       " array([0.99995452]),\n",
       " array([4.54391049e-05])]"
      ]
     },
     "execution_count": 64,
     "metadata": {},
     "output_type": "execute_result"
    }
   ],
   "source": [
    "x_train = np.array([[1,0,0], [1,0,1], [1,1,0], [1,1,1]])\n",
    "net = Network()\n",
    "\n",
    "net.add(ConnectedLayer(2, 2, weights[0]))\n",
    "net.add(ActivationLayer(sigmoid))\n",
    "net.add(ConnectedLayer(2, 1, weights[1]))\n",
    "net.add(ActivationLayer(sigmoid))\n",
    "\n",
    "out = net.predict(x_train)\n",
    "out"
   ]
  },
  {
   "cell_type": "code",
   "execution_count": null,
   "metadata": {},
   "outputs": [],
   "source": [
    "import numpy as np\n",
    "import os\n",
    "\n",
    "from pyvis.network import Network"
   ]
  },
  {
   "cell_type": "markdown",
   "metadata": {},
   "source": [
    "## **Helper** Function <a class=\"anchor\" id=\"helper\"></a>"
   ]
  },
  {
   "cell_type": "markdown",
   "metadata": {},
   "source": [
    "#### Activation Function"
   ]
  },
  {
   "cell_type": "code",
   "execution_count": null,
   "metadata": {},
   "outputs": [],
   "source": [
    "def linear(net):\n",
    "    return net\n",
    "\n",
    "def ReLU(net):\n",
    "    return np.maximum(0,net)\n",
    "\n",
    "def sigmoid(net):\n",
    "    return 1/(1+np.exp(-net))\n",
    "\n",
    "def softmax(net):\n",
    "    return np.exp(net)/np.sum(np.exp(net))"
   ]
  },
  {
   "cell_type": "markdown",
   "metadata": {},
   "source": [
    "#### Loss Function"
   ]
  },
  {
   "cell_type": "code",
   "execution_count": null,
   "metadata": {},
   "outputs": [],
   "source": [
    "def mse(y_true, y_pred):\n",
    "    return np.mean(np.square(y_true - y_pred))\n",
    "\n",
    "def sse(y_true, y_pred):\n",
    "    return np.sum(np.square(y_true - y_pred))"
   ]
  },
  {
   "attachments": {},
   "cell_type": "markdown",
   "metadata": {},
   "source": [
    "# Classes"
   ]
  },
  {
   "attachments": {},
   "cell_type": "markdown",
   "metadata": {},
   "source": [
    "#### Connected Layer"
   ]
  },
  {
   "cell_type": "code",
   "execution_count": null,
   "metadata": {},
   "outputs": [],
   "source": [
    "n = int(data[0])\n",
    "act = {0: \"linear\", 1: \"ReLU\", 2: \"sigmoid\", 3: \"softmax\"}\n",
    "idx = 1\n",
    "\n",
    "XSTEP = 300\n",
    "YSTEP = 300\n",
    "SIZE = 10\n",
    "\n",
    "nodes = []\n",
    "node_i = 1\n",
    "value = []\n",
    "x_val = 0\n",
    "y_val = 0\n",
    "x = []\n",
    "y = []\n",
    "label = []\n",
    "color = []\n",
    "edge = []\n",
    "\n",
    "src_idx = 0\n",
    "\n",
    "for i_layer in range(n - 1):\n",
    "    n_curr, n_next, act = [int(i) for i in data[idx].split()]\n",
    "\n",
    "    if i_layer == 0:  # means that this is the first layer, hence construct input\n",
    "        for i_node in range(n_curr + 1):\n",
    "            if i_node == 0:  # bias\n",
    "                color.append(\"#dd4b39\")\n",
    "                label.append(\"Input[bias]\")\n",
    "            else:\n",
    "                color.append(\"#162347\")\n",
    "                label.append(\"Input[{}]\".format(i_node))\n",
    "            value.append(SIZE)\n",
    "            x.append(x_val)\n",
    "            y.append(y_val)\n",
    "            y_val += YSTEP\n",
    "            nodes.append(node_i)\n",
    "            node_i += 1\n",
    "        x_val += XSTEP\n",
    "\n",
    "    y_val = 0\n",
    "    # always construct the next layer\n",
    "    for i_node in range(n_next + 1):\n",
    "        if i_node == 0:\n",
    "            if i_layer == n - 2:\n",
    "                continue\n",
    "            color.append(\"#dd4b39\")\n",
    "            label.append(\"HL{}[bias]\".format(i_layer + 1))\n",
    "        else:\n",
    "            color.append(\"#162347\")\n",
    "            if i_layer == n - 2:\n",
    "                label.append(\"Output[{}]\".format(i_node))\n",
    "            else:\n",
    "                label.append(\"HL{}[{}]\".format(i_layer + 1, i_node))\n",
    "        value.append(SIZE)\n",
    "        x.append(x_val)\n",
    "        y.append(y_val)\n",
    "        y_val += YSTEP\n",
    "        nodes.append(node_i)\n",
    "        node_i += 1\n",
    "    x_val += XSTEP\n",
    "\n",
    "    idx += 1\n",
    "    for origin in range(n_curr + 1):\n",
    "        dst_idx = -1\n",
    "        for w in reversed(data[idx].split()):\n",
    "            edge.append((nodes[src_idx], nodes[dst_idx], w))\n",
    "            dst_idx -= 1\n",
    "        src_idx += 1\n",
    "        idx += 1\n"
   ]
  },
  {
   "cell_type": "code",
   "execution_count": null,
   "metadata": {},
   "outputs": [],
   "source": [
    "g = Network(notebook=True, cdn_resources=\"remote\")\n",
    "g.add_nodes(\n",
    "\tnodes,\n",
    "    value = value,\n",
    "    x=x,y=y,\n",
    "    label = label,\n",
    "    color = color\n",
    ")\n",
    "\n",
    "for e in edge:\n",
    "    g.add_edge(e[0], e[1], title = e[2], color=\"#162347\")\n",
    "\n",
    "for n in g.nodes:\n",
    "    n.update({'physics': False})\n",
    "    \n",
    "g.show(\"./tmp/network.html\")"
   ]
  }
 ],
 "metadata": {
  "kernelspec": {
   "display_name": "Python 3 (ipykernel)",
   "language": "python",
   "name": "python3"
  },
  "language_info": {
   "codemirror_mode": {
    "name": "ipython",
    "version": 3
   },
   "file_extension": ".py",
   "mimetype": "text/x-python",
   "name": "python",
   "nbconvert_exporter": "python",
   "pygments_lexer": "ipython3",
   "version": "3.9.8"
  }
 },
 "nbformat": 4,
 "nbformat_minor": 2
}
